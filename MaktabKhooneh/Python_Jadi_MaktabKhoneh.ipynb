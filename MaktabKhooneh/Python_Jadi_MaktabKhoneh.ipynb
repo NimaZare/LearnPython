{
  "nbformat": 4,
  "nbformat_minor": 0,
  "metadata": {
    "colab": {
      "provenance": [],
      "collapsed_sections": [
        "2idc97_8jroD",
        "H-ZirxaojZuS",
        "8KebxsO0oVMC",
        "ycc9vcPivWIs",
        "uCfft1A7y9n4",
        "N98RCuOMFJ1v",
        "zpLfpTIE2T1S",
        "zW2HnbHbLlPE",
        "ZXQt8sJjAVaL",
        "Xq5wFAB8JVbl",
        "tvLL4wpid7n-",
        "Cv5Vl5Mwo5De",
        "c6VqGpaOK-YM",
        "MY61nBUriJOs",
        "uYCHtNlTm8Dc",
        "TM6ka18yPVq2"
      ]
    },
    "kernelspec": {
      "name": "python3",
      "display_name": "Python 3"
    },
    "language_info": {
      "name": "python"
    }
  },
  "cells": [
    {
      "cell_type": "markdown",
      "source": [
        "##تمرین رشته منقطع\n",
        "\n",
        "کدی بنویسید که رشته زیر را در ابتدا به شکل lower case تبدیل کنید و سپس رشته را به شکل لیست کلمات جدا جدا شده با استفاده از متد رشته خروجی دهد.\n",
        "\n",
        "x = 'Hi this is a string'"
      ],
      "metadata": {
        "id": "2idc97_8jroD"
      }
    },
    {
      "cell_type": "code",
      "source": [
        "x = 'Hi this is a string'\n",
        "print(x.lower() + '\\n')\n",
        "print(list(x))"
      ],
      "metadata": {
        "colab": {
          "base_uri": "https://localhost:8080/"
        },
        "id": "u4cJu-s4f2gS",
        "outputId": "1c8d6a80-7f4d-44c8-9953-66d99ced86d6"
      },
      "execution_count": null,
      "outputs": [
        {
          "output_type": "stream",
          "name": "stdout",
          "text": [
            "hi this is a string\n",
            "\n",
            "['H', 'i', ' ', 't', 'h', 'i', 's', ' ', 'i', 's', ' ', 'a', ' ', 's', 't', 'r', 'i', 'n', 'g']\n"
          ]
        }
      ]
    },
    {
      "cell_type": "markdown",
      "source": [
        "## ++++++++++++++++++++++++++++++++++++++++++++++++"
      ],
      "metadata": {
        "id": "HOc3ZdKHKaAu"
      }
    },
    {
      "cell_type": "markdown",
      "source": [
        "##تمرین دست‌کاری لیست\n",
        "\n",
        "کدی بنویسید که با استفاده از عملگرهای لیست (مانند حذف و اضافه کردن به انتهای لیست) از لیست داده‌شده عدد 3 را حذف کند و عدد 10 را به انتهای لیست اضافه کند، سپس لیست نهایی را بازگرداند.\n",
        "\n",
        "my_list = [1, 2, 3, 4, 5]"
      ],
      "metadata": {
        "id": "H-ZirxaojZuS"
      }
    },
    {
      "cell_type": "code",
      "source": [
        "my_list = [1, 2, 3, 4, 5]\n",
        "my_list.remove(3)\n",
        "my_list.append(10)\n",
        "my_list"
      ],
      "metadata": {
        "colab": {
          "base_uri": "https://localhost:8080/"
        },
        "id": "lg8K3V3PiTFs",
        "outputId": "af401710-a330-452a-c90d-753916015e3f"
      },
      "execution_count": null,
      "outputs": [
        {
          "output_type": "execute_result",
          "data": {
            "text/plain": [
              "[1, 2, 4, 5, 10]"
            ]
          },
          "metadata": {},
          "execution_count": 48
        }
      ]
    },
    {
      "cell_type": "markdown",
      "source": [],
      "metadata": {
        "id": "9zLUkplGoSqB"
      }
    },
    {
      "cell_type": "markdown",
      "source": [
        "## ++++++++++++++++++++++++++++++++++++++++++++++++"
      ],
      "metadata": {
        "id": "EOpm3_DyKhqd"
      }
    },
    {
      "cell_type": "markdown",
      "source": [
        "##Dictionary"
      ],
      "metadata": {
        "id": "8KebxsO0oVMC"
      }
    },
    {
      "cell_type": "code",
      "source": [
        "nomreh = {\n",
        "    \"Nima\": {\n",
        "        \"riazy\": 13,\n",
        "        \"programming\": 20,\n",
        "        \"tarikh\": 15\n",
        "    },\n",
        "    \"Hirad\": {\n",
        "        \"riazy\": 20,\n",
        "        \"programming\": 20,\n",
        "        \"tarikh\": 20\n",
        "    }\n",
        "}"
      ],
      "metadata": {
        "id": "lbWvznmToirA"
      },
      "execution_count": null,
      "outputs": []
    },
    {
      "cell_type": "code",
      "source": [
        "print(nomreh[\"Hirad\"], '\\n')\n",
        "print(nomreh[\"Hirad\"][\"riazy\"])"
      ],
      "metadata": {
        "colab": {
          "base_uri": "https://localhost:8080/"
        },
        "id": "XYywD9fWpgAP",
        "outputId": "60418c43-4270-48a3-8289-3bc049c258f9"
      },
      "execution_count": null,
      "outputs": [
        {
          "output_type": "stream",
          "name": "stdout",
          "text": [
            "{'riazy': 20, 'programming': 20, 'tarikh': 20} \n",
            "\n",
            "20\n"
          ]
        }
      ]
    },
    {
      "cell_type": "code",
      "source": [
        "nomreh.keys()"
      ],
      "metadata": {
        "colab": {
          "base_uri": "https://localhost:8080/"
        },
        "id": "6_CmuxQRqfgm",
        "outputId": "0059e893-fd01-41eb-d647-6fce87194322"
      },
      "execution_count": null,
      "outputs": [
        {
          "output_type": "execute_result",
          "data": {
            "text/plain": [
              "dict_keys(['Nima', 'Hirad'])"
            ]
          },
          "metadata": {},
          "execution_count": 51
        }
      ]
    },
    {
      "cell_type": "code",
      "source": [
        "nomreh.values()"
      ],
      "metadata": {
        "colab": {
          "base_uri": "https://localhost:8080/"
        },
        "id": "NhQwWYwvqpOU",
        "outputId": "09d01ce3-df10-48ac-ad1b-043c56d3b88c"
      },
      "execution_count": null,
      "outputs": [
        {
          "output_type": "execute_result",
          "data": {
            "text/plain": [
              "dict_values([{'riazy': 13, 'programming': 20, 'tarikh': 15}, {'riazy': 20, 'programming': 20, 'tarikh': 20}])"
            ]
          },
          "metadata": {},
          "execution_count": 52
        }
      ]
    },
    {
      "cell_type": "code",
      "source": [
        "nomreh.items()"
      ],
      "metadata": {
        "colab": {
          "base_uri": "https://localhost:8080/"
        },
        "id": "izDfYP8nqtiX",
        "outputId": "441514b1-2735-4bcb-a249-efeffd734328"
      },
      "execution_count": null,
      "outputs": [
        {
          "output_type": "execute_result",
          "data": {
            "text/plain": [
              "dict_items([('Nima', {'riazy': 13, 'programming': 20, 'tarikh': 15}), ('Hirad', {'riazy': 20, 'programming': 20, 'tarikh': 20})])"
            ]
          },
          "metadata": {},
          "execution_count": 53
        }
      ]
    },
    {
      "cell_type": "code",
      "source": [
        "price = {\n",
        "    \"apple\": 100,\n",
        "    \"banana\": 2,\n",
        "    \"khiar\": 1000\n",
        "}"
      ],
      "metadata": {
        "id": "fYkCR-cJrBUE"
      },
      "execution_count": null,
      "outputs": []
    },
    {
      "cell_type": "code",
      "source": [
        "price.keys()"
      ],
      "metadata": {
        "colab": {
          "base_uri": "https://localhost:8080/"
        },
        "id": "KFuLAj_frxdS",
        "outputId": "18db9e91-0fd5-43e0-fa00-64546265a5e6"
      },
      "execution_count": null,
      "outputs": [
        {
          "output_type": "execute_result",
          "data": {
            "text/plain": [
              "dict_keys(['apple', 'banana', 'khiar'])"
            ]
          },
          "metadata": {},
          "execution_count": 55
        }
      ]
    },
    {
      "cell_type": "code",
      "source": [
        "price.values()"
      ],
      "metadata": {
        "colab": {
          "base_uri": "https://localhost:8080/"
        },
        "id": "O7eAI-OTr32-",
        "outputId": "5271f859-adc4-4efc-825c-26879c9d7bfe"
      },
      "execution_count": null,
      "outputs": [
        {
          "output_type": "execute_result",
          "data": {
            "text/plain": [
              "dict_values([100, 2, 1000])"
            ]
          },
          "metadata": {},
          "execution_count": 56
        }
      ]
    },
    {
      "cell_type": "code",
      "source": [
        "price.items()"
      ],
      "metadata": {
        "colab": {
          "base_uri": "https://localhost:8080/"
        },
        "id": "bLVpLQaHr8Br",
        "outputId": "3b48643e-c53c-49d5-818e-49760dbc5187"
      },
      "execution_count": null,
      "outputs": [
        {
          "output_type": "execute_result",
          "data": {
            "text/plain": [
              "dict_items([('apple', 100), ('banana', 2), ('khiar', 1000)])"
            ]
          },
          "metadata": {},
          "execution_count": 57
        }
      ]
    },
    {
      "cell_type": "code",
      "source": [
        "price.get(\"bademjoon\")"
      ],
      "metadata": {
        "id": "lH9cdvfRr_4s"
      },
      "execution_count": null,
      "outputs": []
    },
    {
      "cell_type": "code",
      "source": [
        "price.get(\"bademjoon\", -1)"
      ],
      "metadata": {
        "colab": {
          "base_uri": "https://localhost:8080/"
        },
        "id": "vUcq-AtksSvu",
        "outputId": "128ca388-cd80-40b9-b79c-09dfbe5c36fb"
      },
      "execution_count": null,
      "outputs": [
        {
          "output_type": "execute_result",
          "data": {
            "text/plain": [
              "-1"
            ]
          },
          "metadata": {},
          "execution_count": 59
        }
      ]
    },
    {
      "cell_type": "code",
      "source": [
        "price.get(\"apple\", -1)"
      ],
      "metadata": {
        "colab": {
          "base_uri": "https://localhost:8080/"
        },
        "id": "SEbko7ZasXNi",
        "outputId": "64dbf873-9508-47be-9d6b-850acf9c6139"
      },
      "execution_count": null,
      "outputs": [
        {
          "output_type": "execute_result",
          "data": {
            "text/plain": [
              "100"
            ]
          },
          "metadata": {},
          "execution_count": 60
        }
      ]
    },
    {
      "cell_type": "code",
      "source": [
        "kelasha = {\n",
        "    1: [\"nima\", \"hirad\", \"hadi\"],\n",
        "    2: [\"zahra\", \"sara\", \"roya\"]\n",
        "}"
      ],
      "metadata": {
        "id": "qgoMmKOssh7J"
      },
      "execution_count": null,
      "outputs": []
    },
    {
      "cell_type": "code",
      "source": [
        "kelasha[1]"
      ],
      "metadata": {
        "colab": {
          "base_uri": "https://localhost:8080/"
        },
        "id": "aqtvYNDCtkcI",
        "outputId": "a0f0359a-437c-450a-84bd-9edff0cca909"
      },
      "execution_count": null,
      "outputs": [
        {
          "output_type": "execute_result",
          "data": {
            "text/plain": [
              "['nima', 'hirad', 'hadi']"
            ]
          },
          "metadata": {},
          "execution_count": 62
        }
      ]
    },
    {
      "cell_type": "code",
      "source": [
        "kelasha[1][1]"
      ],
      "metadata": {
        "colab": {
          "base_uri": "https://localhost:8080/"
        },
        "id": "RH0aCKLgtnGy",
        "outputId": "24f0ea53-adb8-41dc-8d16-50cd6de4bd1d"
      },
      "execution_count": null,
      "outputs": [
        {
          "output_type": "execute_result",
          "data": {
            "text/plain": [
              "'hirad'"
            ],
            "application/vnd.google.colaboratory.intrinsic+json": {
              "type": "string"
            }
          },
          "metadata": {},
          "execution_count": 63
        }
      ]
    },
    {
      "cell_type": "code",
      "source": [
        "kelasha[2][0].upper()"
      ],
      "metadata": {
        "colab": {
          "base_uri": "https://localhost:8080/"
        },
        "id": "rHxnBCNDtsf2",
        "outputId": "12e9c741-4447-4ec5-d6a6-780d111c9381"
      },
      "execution_count": null,
      "outputs": [
        {
          "output_type": "execute_result",
          "data": {
            "text/plain": [
              "'ZAHRA'"
            ],
            "application/vnd.google.colaboratory.intrinsic+json": {
              "type": "string"
            }
          },
          "metadata": {},
          "execution_count": 64
        }
      ]
    },
    {
      "cell_type": "code",
      "source": [
        "kelasha[2][0].upper()[2]"
      ],
      "metadata": {
        "colab": {
          "base_uri": "https://localhost:8080/"
        },
        "id": "wcNNVUHqt9Kb",
        "outputId": "0e53e847-82fb-4e76-9de8-29ed436f7194"
      },
      "execution_count": null,
      "outputs": [
        {
          "output_type": "execute_result",
          "data": {
            "text/plain": [
              "'H'"
            ],
            "application/vnd.google.colaboratory.intrinsic+json": {
              "type": "string"
            }
          },
          "metadata": {},
          "execution_count": 65
        }
      ]
    },
    {
      "cell_type": "markdown",
      "source": [
        "Add new item to dictionary"
      ],
      "metadata": {
        "id": "iUgtD7WFkbVe"
      }
    },
    {
      "cell_type": "code",
      "source": [
        "price[\"orange\"] = 50"
      ],
      "metadata": {
        "id": "wUaDRvyFuF2e"
      },
      "execution_count": null,
      "outputs": []
    },
    {
      "cell_type": "code",
      "source": [
        "price"
      ],
      "metadata": {
        "colab": {
          "base_uri": "https://localhost:8080/"
        },
        "id": "mG5vHhT0vElV",
        "outputId": "b9396648-1682-44a2-f4ae-e37cfbdb11f6"
      },
      "execution_count": null,
      "outputs": [
        {
          "output_type": "execute_result",
          "data": {
            "text/plain": [
              "{'apple': 100, 'banana': 2, 'khiar': 1000, 'orange': 50}"
            ]
          },
          "metadata": {},
          "execution_count": 67
        }
      ]
    },
    {
      "cell_type": "markdown",
      "source": [
        "##تمرین دیکشنری حاوی میوه\n",
        "\n",
        "یک دیکشنری به نام fruit_prices بسازید که شامل قیمت‌های میوه‌ها باشد.\n",
        "\n",
        "قیمت‌ها به شرح زیر است:\n",
        "\n",
        "apple: 1500\n",
        "\n",
        "banana: 1000\n",
        "\n",
        "orange: 1200\n",
        "\n",
        "\n",
        "سپس کدی بنویسید که قیمت banana را به 1100 تغییر دهد\n",
        "\n",
        "و apple را به طور کلی حذف کند.\n",
        "\n",
        " در آخر این دیکشنری را چاپ کنید."
      ],
      "metadata": {
        "id": "ycc9vcPivWIs"
      }
    },
    {
      "cell_type": "code",
      "source": [
        "fruit_prices = {\n",
        "    'apple': 1500,\n",
        "    'banana': 1000,\n",
        "    'orange': 1200\n",
        "}"
      ],
      "metadata": {
        "id": "Pl_hF8S-DJdj"
      },
      "execution_count": null,
      "outputs": []
    },
    {
      "cell_type": "code",
      "source": [
        "fruit_prices['banana'] = 1100"
      ],
      "metadata": {
        "id": "VrAFKzMFDoDC"
      },
      "execution_count": null,
      "outputs": []
    },
    {
      "cell_type": "code",
      "source": [
        "fruit_prices.pop('apple')"
      ],
      "metadata": {
        "colab": {
          "base_uri": "https://localhost:8080/"
        },
        "id": "1yUboOUhDvLi",
        "outputId": "ddd5386a-190c-462c-eb70-755329c5ceea"
      },
      "execution_count": null,
      "outputs": [
        {
          "output_type": "execute_result",
          "data": {
            "text/plain": [
              "1500"
            ]
          },
          "metadata": {},
          "execution_count": 5
        }
      ]
    },
    {
      "cell_type": "code",
      "source": [
        "fruit_prices"
      ],
      "metadata": {
        "colab": {
          "base_uri": "https://localhost:8080/"
        },
        "id": "4jG9INk2EC8J",
        "outputId": "83b9e7b1-9cdd-4ba4-eadd-decbc8cb09c8"
      },
      "execution_count": null,
      "outputs": [
        {
          "output_type": "execute_result",
          "data": {
            "text/plain": [
              "{'banana': 1100, 'orange': 1200}"
            ]
          },
          "metadata": {},
          "execution_count": 6
        }
      ]
    },
    {
      "cell_type": "markdown",
      "source": [
        "## ++++++++++++++++++++++++++++++++++++++++++++++++"
      ],
      "metadata": {
        "id": "kMmnqLZ4KmHN"
      }
    },
    {
      "cell_type": "markdown",
      "source": [
        "##Tuples\n",
        "تاپل‌ها\n"
      ],
      "metadata": {
        "id": "uCfft1A7y9n4"
      }
    },
    {
      "cell_type": "code",
      "source": [
        "tup1 = (1, 4, 5, \"Nima\", 3.14598)"
      ],
      "metadata": {
        "id": "X3P0FZbyzIOV"
      },
      "execution_count": null,
      "outputs": []
    },
    {
      "cell_type": "code",
      "source": [
        "tup1[3]"
      ],
      "metadata": {
        "colab": {
          "base_uri": "https://localhost:8080/"
        },
        "id": "PxFsxwWG0ANB",
        "outputId": "84a6410e-e9bc-47a9-f957-ab38fe48c7e4"
      },
      "execution_count": null,
      "outputs": [
        {
          "output_type": "execute_result",
          "data": {
            "text/plain": [
              "'Nima'"
            ],
            "application/vnd.google.colaboratory.intrinsic+json": {
              "type": "string"
            }
          },
          "metadata": {},
          "execution_count": 69
        }
      ]
    },
    {
      "cell_type": "markdown",
      "source": [
        "tuples are immutable so we can not add or assinment value 👇"
      ],
      "metadata": {
        "id": "sDZoTUtY0bFm"
      }
    },
    {
      "cell_type": "code",
      "source": [
        "#tup1[2] = 3"
      ],
      "metadata": {
        "id": "8PX07ZmD0E8M"
      },
      "execution_count": null,
      "outputs": []
    },
    {
      "cell_type": "code",
      "source": [
        "result = ('Nima', 15)"
      ],
      "metadata": {
        "id": "RwICm2KJ0N_i"
      },
      "execution_count": null,
      "outputs": []
    },
    {
      "cell_type": "code",
      "source": [
        "name, nomreh = result"
      ],
      "metadata": {
        "id": "Bwn-6iqx1jfh"
      },
      "execution_count": null,
      "outputs": []
    },
    {
      "cell_type": "code",
      "source": [
        "name"
      ],
      "metadata": {
        "colab": {
          "base_uri": "https://localhost:8080/"
        },
        "id": "dhBOTp8j1otL",
        "outputId": "330988eb-5bc4-48f1-dd2d-45ef1c316701"
      },
      "execution_count": null,
      "outputs": [
        {
          "output_type": "execute_result",
          "data": {
            "text/plain": [
              "'Nima'"
            ],
            "application/vnd.google.colaboratory.intrinsic+json": {
              "type": "string"
            }
          },
          "metadata": {},
          "execution_count": 73
        }
      ]
    },
    {
      "cell_type": "code",
      "source": [
        "nomreh"
      ],
      "metadata": {
        "colab": {
          "base_uri": "https://localhost:8080/"
        },
        "id": "_w3Nd6jU1pbU",
        "outputId": "f05244af-cbf6-492e-e8b7-bf885d4968ac"
      },
      "execution_count": null,
      "outputs": [
        {
          "output_type": "execute_result",
          "data": {
            "text/plain": [
              "15"
            ]
          },
          "metadata": {},
          "execution_count": 74
        }
      ]
    },
    {
      "cell_type": "markdown",
      "source": [
        "## تمرین فاصله دو نقطه با تاپل\n",
        "\n",
        "یک تاپل به نام\n",
        "\n",
        "coordinates\n",
        "\n",
        "بسازید که شامل مختصات نقطه\n",
        "\n",
        "A\n",
        "\n",
        "در صفحه باشد\n",
        "\n",
        "( (4, 3) = a)\n",
        "\n",
        "\n",
        "\n",
        "سپس کدی بنویسید که مسافت این نقطه تا مبدا\n",
        "\n",
        "(0, 0)\n",
        "\n",
        "را محاسبه کند.\n",
        "\n",
        "\n",
        "برای محاسبه مسافت بین دو نقطه در صفحه مختصات از فرمول مسافت اقلیدسی استفاده کنید:\n",
        "\n",
        "\n",
        "distance = √((x₂ - x₁)² + (y₂ - y₁)²)"
      ],
      "metadata": {
        "id": "N98RCuOMFJ1v"
      }
    },
    {
      "cell_type": "code",
      "source": [
        "a = (3, 4)"
      ],
      "metadata": {
        "id": "TkIlXyMGGDEu"
      },
      "execution_count": null,
      "outputs": []
    },
    {
      "cell_type": "code",
      "source": [
        "b = (0, 0)"
      ],
      "metadata": {
        "id": "OX17ZjR7GK62"
      },
      "execution_count": null,
      "outputs": []
    },
    {
      "cell_type": "code",
      "source": [
        "import math\n",
        "distance = math.sqrt((a[0] - b[0])**2 + (a[1] - b[1])**2)"
      ],
      "metadata": {
        "id": "diama_mqGUsF"
      },
      "execution_count": null,
      "outputs": []
    },
    {
      "cell_type": "code",
      "source": [
        "distance"
      ],
      "metadata": {
        "colab": {
          "base_uri": "https://localhost:8080/"
        },
        "id": "4dUPc40-KGMP",
        "outputId": "66917fdd-19f1-45b8-ef74-1dd8b8b9a58c"
      },
      "execution_count": null,
      "outputs": [
        {
          "output_type": "execute_result",
          "data": {
            "text/plain": [
              "5.0"
            ]
          },
          "metadata": {},
          "execution_count": 11
        }
      ]
    },
    {
      "cell_type": "markdown",
      "source": [
        "## ++++++++++++++++++++++++++++++++++++++++++++++++"
      ],
      "metadata": {
        "id": "L1EFkLNgKoDt"
      }
    },
    {
      "cell_type": "markdown",
      "source": [
        "##Sets\n",
        "\n",
        "مجموعه‌ها\n",
        "\n",
        "** نکته:  در مجموعه ها ترتیب اعضای آن مرتب نیست به اصطلاح یک گونی از اجزا هست و عضو تکراری ندارد **"
      ],
      "metadata": {
        "id": "zpLfpTIE2T1S"
      }
    },
    {
      "cell_type": "code",
      "source": [
        "myset = set()"
      ],
      "metadata": {
        "id": "yeEJwO-42bmO"
      },
      "execution_count": null,
      "outputs": []
    },
    {
      "cell_type": "code",
      "source": [
        "myset.add(1)\n",
        "myset.add(2)"
      ],
      "metadata": {
        "id": "QhreaJJm2573"
      },
      "execution_count": null,
      "outputs": []
    },
    {
      "cell_type": "code",
      "source": [
        "myset"
      ],
      "metadata": {
        "colab": {
          "base_uri": "https://localhost:8080/"
        },
        "id": "BmTO2AZD2_2_",
        "outputId": "a677c521-e248-4acb-de1b-00a260ee0db3"
      },
      "execution_count": null,
      "outputs": [
        {
          "output_type": "execute_result",
          "data": {
            "text/plain": [
              "{1, 2}"
            ]
          },
          "metadata": {},
          "execution_count": 77
        }
      ]
    },
    {
      "cell_type": "code",
      "source": [
        "type(myset)"
      ],
      "metadata": {
        "colab": {
          "base_uri": "https://localhost:8080/"
        },
        "id": "Jeaysn5N3BR1",
        "outputId": "cca30ea4-999c-4840-cc30-c0dfcdc0aafd"
      },
      "execution_count": null,
      "outputs": [
        {
          "output_type": "execute_result",
          "data": {
            "text/plain": [
              "set"
            ]
          },
          "metadata": {},
          "execution_count": 78
        }
      ]
    },
    {
      "cell_type": "markdown",
      "source": [
        "we can not add 3 arguments to set with add()"
      ],
      "metadata": {
        "id": "RYFsxGHw3W9h"
      }
    },
    {
      "cell_type": "code",
      "source": [
        "#myset.add(1, 2, 3)"
      ],
      "metadata": {
        "id": "WtJj-F-X3Ecv"
      },
      "execution_count": null,
      "outputs": []
    },
    {
      "cell_type": "markdown",
      "source": [
        "we can not add list/array arguments to set with add()"
      ],
      "metadata": {
        "id": "xye0uInL32DY"
      }
    },
    {
      "cell_type": "code",
      "source": [
        "#myset.add([2, 3, 4])"
      ],
      "metadata": {
        "id": "TJlphrFu3k7g"
      },
      "execution_count": null,
      "outputs": []
    },
    {
      "cell_type": "code",
      "source": [
        "myset.add('Hirad')"
      ],
      "metadata": {
        "id": "C6rYW9yT3sXE"
      },
      "execution_count": null,
      "outputs": []
    },
    {
      "cell_type": "code",
      "source": [
        "myset"
      ],
      "metadata": {
        "colab": {
          "base_uri": "https://localhost:8080/"
        },
        "id": "uWT45k4v4MBM",
        "outputId": "8285e0d4-377e-4ef6-c836-893432792481"
      },
      "execution_count": null,
      "outputs": [
        {
          "output_type": "execute_result",
          "data": {
            "text/plain": [
              "{1, 2, 'Hirad'}"
            ]
          },
          "metadata": {},
          "execution_count": 82
        }
      ]
    },
    {
      "cell_type": "code",
      "source": [
        "chess = set()\n",
        "chess.add('Nima')\n",
        "chess.add('Hirad')"
      ],
      "metadata": {
        "id": "JfH5aJZ-4OKJ"
      },
      "execution_count": null,
      "outputs": []
    },
    {
      "cell_type": "code",
      "source": [
        "sofalgary = set()\n",
        "sofalgary.add('Nima')\n",
        "sofalgary.add('Ali')"
      ],
      "metadata": {
        "id": "KFq9YkQL5X7H"
      },
      "execution_count": null,
      "outputs": []
    },
    {
      "cell_type": "markdown",
      "source": [
        " وجه اتحاد دو مجموعه"
      ],
      "metadata": {
        "id": "OdzxUmuF6Egt"
      }
    },
    {
      "cell_type": "code",
      "source": [
        "sofalgary.union(chess)"
      ],
      "metadata": {
        "colab": {
          "base_uri": "https://localhost:8080/"
        },
        "id": "fzTxX4Ke5vwM",
        "outputId": "397b2bd6-6ba5-40cd-f08a-9a1f6d24b56f"
      },
      "execution_count": null,
      "outputs": [
        {
          "output_type": "execute_result",
          "data": {
            "text/plain": [
              "{'Ali', 'Hirad', 'Nima'}"
            ]
          },
          "metadata": {},
          "execution_count": 86
        }
      ]
    },
    {
      "cell_type": "markdown",
      "source": [
        "وجه مشترک دو مجموعه"
      ],
      "metadata": {
        "id": "i2AmOjlI6O_E"
      }
    },
    {
      "cell_type": "code",
      "source": [
        "sofalgary.intersection(chess)"
      ],
      "metadata": {
        "colab": {
          "base_uri": "https://localhost:8080/"
        },
        "id": "d3heZT0U6AY3",
        "outputId": "92b462cd-d76b-488d-8fa4-482de0b388db"
      },
      "execution_count": null,
      "outputs": [
        {
          "output_type": "execute_result",
          "data": {
            "text/plain": [
              "{'Nima'}"
            ]
          },
          "metadata": {},
          "execution_count": 87
        }
      ]
    },
    {
      "cell_type": "code",
      "source": [
        "heyvoons = set(['Dog', 'Cat', 'Wolf', 'Pig'])"
      ],
      "metadata": {
        "id": "Plmwnv3u6XlY"
      },
      "execution_count": null,
      "outputs": []
    },
    {
      "cell_type": "code",
      "source": [
        "heyvoons"
      ],
      "metadata": {
        "colab": {
          "base_uri": "https://localhost:8080/"
        },
        "id": "NnqlnJLi7KQt",
        "outputId": "431c8790-f654-4fe6-f750-c2028dcb74ec"
      },
      "execution_count": null,
      "outputs": [
        {
          "output_type": "execute_result",
          "data": {
            "text/plain": [
              "{'Cat', 'Dog', 'Pig', 'Wolf'}"
            ]
          },
          "metadata": {},
          "execution_count": 89
        }
      ]
    },
    {
      "cell_type": "code",
      "source": [
        "type(heyvoons)"
      ],
      "metadata": {
        "colab": {
          "base_uri": "https://localhost:8080/"
        },
        "id": "U8a--uzY7L-V",
        "outputId": "5c2f5a89-51e3-4a63-b97d-02e33880e4dd"
      },
      "execution_count": null,
      "outputs": [
        {
          "output_type": "execute_result",
          "data": {
            "text/plain": [
              "set"
            ]
          },
          "metadata": {},
          "execution_count": 90
        }
      ]
    },
    {
      "cell_type": "code",
      "source": [
        "heyvoons.add('dolphine')"
      ],
      "metadata": {
        "id": "--cUCCKh7S0o"
      },
      "execution_count": null,
      "outputs": []
    },
    {
      "cell_type": "code",
      "source": [
        "heyvoons"
      ],
      "metadata": {
        "colab": {
          "base_uri": "https://localhost:8080/"
        },
        "id": "W0e5u8XD7nX_",
        "outputId": "3b7e5166-7d0c-4dc8-85a0-8d29e9b372cb"
      },
      "execution_count": null,
      "outputs": [
        {
          "output_type": "execute_result",
          "data": {
            "text/plain": [
              "{'Cat', 'Dog', 'Pig', 'Wolf', 'dolphine'}"
            ]
          },
          "metadata": {},
          "execution_count": 92
        }
      ]
    },
    {
      "cell_type": "markdown",
      "source": [
        "## تمرین جادوگر شهر پایتون\n",
        "\n",
        "یک جادوگر دو مجموعه جادویی به نام‌های\n",
        "\n",
        "SetA و SetB\n",
        "\n",
        "دارد.\n",
        "\n",
        "\n",
        "\n",
        "```\n",
        "SetA = {1, 2, 3, 4}\n",
        "SetB = {3, 4, 5, 6}\n",
        "```\n",
        "\n",
        "جادوگر باید تمامی اعضای موجود در هر دو مجموعه (اجتماع) را مشخص کند.\n",
        "\n",
        "باید مجموعه‌ی مشترک (اشتراک) بین\n",
        "\n",
        "SetA و SetB\n",
        "\n",
        "را پیدا کند.\n",
        "\n",
        "وظیفه شما، برنامه‌ای بنویسید که:\n",
        "\n",
        "اجتماع اعضای موجود در هر دو مجموعه (اجتماع) را پیدا کنید و با\n",
        "\n",
        "u\n",
        "\n",
        "نشان دهید.\n",
        "\n",
        "مجموعه مشترک (اشتراک) بین\n",
        "\n",
        "SetA و SetB\n",
        "\n",
        "را پیدا کنید و با\n",
        "\n",
        "i\n",
        "\n",
        "نشان دهید.\n",
        "\n",
        "خروجی مورد ۱ و ۲ را به ترتیب در ۲ سطر و به شکل زیر نمایش دهد.\n",
        "\n",
        "\n",
        "\n",
        "```\n",
        "{اجتماع}\n",
        "{اشتراک}\n",
        "```\n"
      ],
      "metadata": {
        "id": "zW2HnbHbLlPE"
      }
    },
    {
      "cell_type": "code",
      "source": [
        "SetA = set([1, 2, 3, 4])\n",
        "SetB = set([3, 4, 5, 6])"
      ],
      "metadata": {
        "id": "ydPWHNR3MlRK"
      },
      "execution_count": null,
      "outputs": []
    },
    {
      "cell_type": "code",
      "source": [
        "u = SetA.union(SetB)"
      ],
      "metadata": {
        "id": "FHuB4LhTMtaS"
      },
      "execution_count": null,
      "outputs": []
    },
    {
      "cell_type": "code",
      "source": [
        "i = SetA.intersection(SetB)"
      ],
      "metadata": {
        "id": "EkYe6UhPNUFV"
      },
      "execution_count": null,
      "outputs": []
    },
    {
      "cell_type": "code",
      "source": [
        "print(u)\n",
        "print(i)"
      ],
      "metadata": {
        "colab": {
          "base_uri": "https://localhost:8080/"
        },
        "id": "uD6Kt2jnNiwk",
        "outputId": "10656f4b-04a1-4aa9-cf95-1514c700311a"
      },
      "execution_count": null,
      "outputs": [
        {
          "output_type": "stream",
          "name": "stdout",
          "text": [
            "{1, 2, 3, 4, 5, 6}\n",
            "{3, 4}\n"
          ]
        }
      ]
    },
    {
      "cell_type": "markdown",
      "source": [
        "## ++++++++++++++++++++++++++++++++++++++++++++++++"
      ],
      "metadata": {
        "id": "ZzdS87RNKudV"
      }
    },
    {
      "cell_type": "markdown",
      "source": [
        "\n",
        "##Booleans\n",
        "\n",
        "Boolean ها در پایتون"
      ],
      "metadata": {
        "id": "ZXQt8sJjAVaL"
      }
    },
    {
      "cell_type": "code",
      "source": [
        "2 > 12"
      ],
      "metadata": {
        "colab": {
          "base_uri": "https://localhost:8080/"
        },
        "id": "l-QiNLINAboj",
        "outputId": "9b43263f-39d3-4d5d-9497-9883c3a64526"
      },
      "execution_count": null,
      "outputs": [
        {
          "output_type": "execute_result",
          "data": {
            "text/plain": [
              "False"
            ]
          },
          "metadata": {},
          "execution_count": 93
        }
      ]
    },
    {
      "cell_type": "markdown",
      "source": [
        "\n",
        "```\n",
        "a > b\n",
        "a < b\n",
        "a >= b\n",
        "a <= b\n",
        "a == b\n",
        "\n",
        "and\n",
        "or\n",
        "not  ex: not(a > b)\n",
        "```\n",
        "\n"
      ],
      "metadata": {
        "id": "f-_ISaYnCHs4"
      }
    },
    {
      "cell_type": "code",
      "source": [
        "a = False"
      ],
      "metadata": {
        "id": "7-K2AnRWBBYG"
      },
      "execution_count": null,
      "outputs": []
    },
    {
      "cell_type": "code",
      "source": [
        "type(a)"
      ],
      "metadata": {
        "colab": {
          "base_uri": "https://localhost:8080/"
        },
        "id": "HmEX-WHCGDym",
        "outputId": "6710edd5-7c67-4ec4-9c05-b556a208fbc3"
      },
      "execution_count": null,
      "outputs": [
        {
          "output_type": "execute_result",
          "data": {
            "text/plain": [
              "bool"
            ]
          },
          "metadata": {},
          "execution_count": 96
        }
      ]
    },
    {
      "cell_type": "code",
      "source": [
        "type(None)"
      ],
      "metadata": {
        "colab": {
          "base_uri": "https://localhost:8080/"
        },
        "id": "hmaDFKbmGI3X",
        "outputId": "e9835186-3eb0-40b2-ef09-808469c0e563"
      },
      "execution_count": null,
      "outputs": [
        {
          "output_type": "execute_result",
          "data": {
            "text/plain": [
              "NoneType"
            ]
          },
          "metadata": {},
          "execution_count": 97
        }
      ]
    },
    {
      "cell_type": "code",
      "source": [
        "my_list = [1, 5, 9, 'Nima', 2.58]"
      ],
      "metadata": {
        "id": "ecB8sU9uIVeT"
      },
      "execution_count": null,
      "outputs": []
    },
    {
      "cell_type": "code",
      "source": [
        "2 in my_list"
      ],
      "metadata": {
        "colab": {
          "base_uri": "https://localhost:8080/"
        },
        "id": "FTcRZbtWIb3A",
        "outputId": "0c25d02b-265a-43af-b5fd-b7921f7bae1a"
      },
      "execution_count": null,
      "outputs": [
        {
          "output_type": "execute_result",
          "data": {
            "text/plain": [
              "False"
            ]
          },
          "metadata": {},
          "execution_count": 99
        }
      ]
    },
    {
      "cell_type": "code",
      "source": [
        "5 in my_list"
      ],
      "metadata": {
        "colab": {
          "base_uri": "https://localhost:8080/"
        },
        "id": "hSvvidtNIej5",
        "outputId": "ad142776-cc56-4ed2-8338-4aa5ffa9df22"
      },
      "execution_count": null,
      "outputs": [
        {
          "output_type": "execute_result",
          "data": {
            "text/plain": [
              "True"
            ]
          },
          "metadata": {},
          "execution_count": 100
        }
      ]
    },
    {
      "cell_type": "code",
      "source": [
        "heyvoons = {'dog': 3, 'cat': 5, 'wolf': 8}"
      ],
      "metadata": {
        "id": "fWnAIZg_Ig4j"
      },
      "execution_count": null,
      "outputs": []
    },
    {
      "cell_type": "code",
      "source": [
        "'wolf' in heyvoons"
      ],
      "metadata": {
        "colab": {
          "base_uri": "https://localhost:8080/"
        },
        "id": "T8k7VLOcI4u6",
        "outputId": "58e332fe-e01f-45a2-b893-0f658e3e3cea"
      },
      "execution_count": null,
      "outputs": [
        {
          "output_type": "execute_result",
          "data": {
            "text/plain": [
              "True"
            ]
          },
          "metadata": {},
          "execution_count": 102
        }
      ]
    },
    {
      "cell_type": "markdown",
      "source": [
        "## ++++++++++++++++++++++++++++++++++++++++++++++++\n"
      ],
      "metadata": {
        "id": "gMqkN2LDKxYV"
      }
    },
    {
      "cell_type": "markdown",
      "source": [
        "## file I/O"
      ],
      "metadata": {
        "id": "Xq5wFAB8JVbl"
      }
    },
    {
      "cell_type": "code",
      "source": [
        "pwd"
      ],
      "metadata": {
        "colab": {
          "base_uri": "https://localhost:8080/",
          "height": 35
        },
        "id": "Xuv0SrExJXYh",
        "outputId": "5ae695cf-fd04-4b03-82c5-ee0080c04c07"
      },
      "execution_count": null,
      "outputs": [
        {
          "output_type": "execute_result",
          "data": {
            "text/plain": [
              "'/content'"
            ],
            "application/vnd.google.colaboratory.intrinsic+json": {
              "type": "string"
            }
          },
          "metadata": {},
          "execution_count": 103
        }
      ]
    },
    {
      "cell_type": "code",
      "source": [
        "!ls"
      ],
      "metadata": {
        "colab": {
          "base_uri": "https://localhost:8080/"
        },
        "id": "vvykBOhBKfSR",
        "outputId": "f2c40ab6-9086-4fdf-ba4a-f562254c1f7d"
      },
      "execution_count": null,
      "outputs": [
        {
          "output_type": "stream",
          "name": "stdout",
          "text": [
            "sample_data\n"
          ]
        }
      ]
    },
    {
      "cell_type": "code",
      "source": [
        "%%writefile myfile.txt\n",
        "This is my temp file\n",
        "We are testing files in Python\n",
        "Good Luck"
      ],
      "metadata": {
        "colab": {
          "base_uri": "https://localhost:8080/"
        },
        "id": "XVgidUCjY0BG",
        "outputId": "f7de7ea9-1091-416a-c76c-a395c02d82ec"
      },
      "execution_count": null,
      "outputs": [
        {
          "output_type": "stream",
          "name": "stdout",
          "text": [
            "Writing myfile.txt\n"
          ]
        }
      ]
    },
    {
      "cell_type": "code",
      "source": [
        "f = open('myfile.txt')"
      ],
      "metadata": {
        "id": "R1W-_Qc1Kkxv"
      },
      "execution_count": null,
      "outputs": []
    },
    {
      "cell_type": "markdown",
      "source": [
        "read data from a text file"
      ],
      "metadata": {
        "id": "nSc-iZXsLOzL"
      }
    },
    {
      "cell_type": "code",
      "source": [
        "f.read()"
      ],
      "metadata": {
        "colab": {
          "base_uri": "https://localhost:8080/",
          "height": 35
        },
        "id": "9aP35Z2cKxs9",
        "outputId": "553a5226-8b07-493a-d057-9e8277fd922f"
      },
      "execution_count": null,
      "outputs": [
        {
          "output_type": "execute_result",
          "data": {
            "text/plain": [
              "'This is my temp file\\nWe are testing files in Python\\nGood Luck\\n'"
            ],
            "application/vnd.google.colaboratory.intrinsic+json": {
              "type": "string"
            }
          },
          "metadata": {},
          "execution_count": 117
        }
      ]
    },
    {
      "cell_type": "markdown",
      "source": [
        "if we call again after read\n",
        "the 'f' is empty"
      ],
      "metadata": {
        "id": "WmIu0pZDLTwK"
      }
    },
    {
      "cell_type": "code",
      "source": [
        "f.read()"
      ],
      "metadata": {
        "colab": {
          "base_uri": "https://localhost:8080/",
          "height": 35
        },
        "id": "ZUNaeB_-LAtr",
        "outputId": "1c36e15a-fb97-4a94-e3b1-41f3abaef4e1"
      },
      "execution_count": null,
      "outputs": [
        {
          "output_type": "execute_result",
          "data": {
            "text/plain": [
              "''"
            ],
            "application/vnd.google.colaboratory.intrinsic+json": {
              "type": "string"
            }
          },
          "metadata": {},
          "execution_count": 118
        }
      ]
    },
    {
      "cell_type": "markdown",
      "source": [
        "the seek is a curser in file\n",
        "so we say go to 0 index of the file"
      ],
      "metadata": {
        "id": "8eW9PmGHV21b"
      }
    },
    {
      "cell_type": "code",
      "source": [
        "f.seek(0)"
      ],
      "metadata": {
        "colab": {
          "base_uri": "https://localhost:8080/"
        },
        "id": "ax4iWK_oOIWu",
        "outputId": "9078d66f-ec6c-417b-bcb3-180741b14f7f"
      },
      "execution_count": null,
      "outputs": [
        {
          "output_type": "execute_result",
          "data": {
            "text/plain": [
              "0"
            ]
          },
          "metadata": {},
          "execution_count": 125
        }
      ]
    },
    {
      "cell_type": "code",
      "source": [
        "f.read()"
      ],
      "metadata": {
        "colab": {
          "base_uri": "https://localhost:8080/",
          "height": 35
        },
        "id": "sd0vIWXWWKXv",
        "outputId": "51b088d8-7915-4227-bfac-9d782e64ed56"
      },
      "execution_count": null,
      "outputs": [
        {
          "output_type": "execute_result",
          "data": {
            "text/plain": [
              "'This is my temp file\\nWe are testing files in Python\\nGood Luck\\n'"
            ],
            "application/vnd.google.colaboratory.intrinsic+json": {
              "type": "string"
            }
          },
          "metadata": {},
          "execution_count": 120
        }
      ]
    },
    {
      "cell_type": "code",
      "source": [
        "f.readline()"
      ],
      "metadata": {
        "colab": {
          "base_uri": "https://localhost:8080/",
          "height": 35
        },
        "id": "UhyybSvdWNyM",
        "outputId": "d9f4eea3-0bc5-4dfd-d488-40b4fdb71d70"
      },
      "execution_count": null,
      "outputs": [
        {
          "output_type": "execute_result",
          "data": {
            "text/plain": [
              "'This is my temp file\\n'"
            ],
            "application/vnd.google.colaboratory.intrinsic+json": {
              "type": "string"
            }
          },
          "metadata": {},
          "execution_count": 124
        }
      ]
    },
    {
      "cell_type": "code",
      "source": [
        "f.seek(0)"
      ],
      "metadata": {
        "colab": {
          "base_uri": "https://localhost:8080/"
        },
        "id": "5NR_0L4_ZWgU",
        "outputId": "0a840c82-37bd-4f3b-ba0f-e3ab4eceb705"
      },
      "execution_count": null,
      "outputs": [
        {
          "output_type": "execute_result",
          "data": {
            "text/plain": [
              "0"
            ]
          },
          "metadata": {},
          "execution_count": 130
        }
      ]
    },
    {
      "cell_type": "code",
      "source": [
        "f.readlines()"
      ],
      "metadata": {
        "colab": {
          "base_uri": "https://localhost:8080/"
        },
        "id": "SiPX4OSoXD0P",
        "outputId": "3a05ec8e-757f-47e9-f663-25b37777e339"
      },
      "execution_count": null,
      "outputs": [
        {
          "output_type": "execute_result",
          "data": {
            "text/plain": [
              "['This is my temp file\\n', 'We are testing files in Python\\n', 'Good Luck\\n']"
            ]
          },
          "metadata": {},
          "execution_count": 126
        }
      ]
    },
    {
      "cell_type": "code",
      "source": [
        "f.close()"
      ],
      "metadata": {
        "id": "sQuvFrj3Xdl6"
      },
      "execution_count": null,
      "outputs": []
    },
    {
      "cell_type": "code",
      "source": [
        "with open('myfile.txt') as f:\n",
        "  lines = f.readlines()\n",
        "  print(lines, '\\n\\n')\n",
        "  print(lines[-1])"
      ],
      "metadata": {
        "colab": {
          "base_uri": "https://localhost:8080/"
        },
        "id": "T-ovDS7-XxHo",
        "outputId": "1d5babb3-ac63-44c1-b484-4649e880b4ef"
      },
      "execution_count": null,
      "outputs": [
        {
          "output_type": "stream",
          "name": "stdout",
          "text": [
            "['This is my temp file\\n', 'We are testing files in Python\\n', 'Good Luck\\n'] \n",
            "\n",
            "\n",
            "Good Luck\n",
            "\n"
          ]
        }
      ]
    },
    {
      "cell_type": "markdown",
      "source": [
        "default parameter is  'r'  "
      ],
      "metadata": {
        "id": "nm29AYVrbhbK"
      }
    },
    {
      "cell_type": "code",
      "source": [
        "with open('myfile.txt', 'r') as reader:\n",
        "  lines = reader.readlines()\n",
        "  print(lines, '\\n\\n')\n",
        "  print(lines[-1])"
      ],
      "metadata": {
        "colab": {
          "base_uri": "https://localhost:8080/"
        },
        "id": "NcZbQWQkZvY1",
        "outputId": "9dcaa91c-aaed-4d0e-b361-22c011d36045"
      },
      "execution_count": null,
      "outputs": [
        {
          "output_type": "stream",
          "name": "stdout",
          "text": [
            "['This is my temp file\\n', 'We are testing files in Python\\n', 'Good Luck\\n'] \n",
            "\n",
            "\n",
            "Good Luck\n",
            "\n"
          ]
        }
      ]
    },
    {
      "cell_type": "markdown",
      "source": [
        "the 'w' parameter can overwrite the file"
      ],
      "metadata": {
        "id": "6Wh2jnfkbx-w"
      }
    },
    {
      "cell_type": "markdown",
      "source": [
        "we want add a text in end of file\n",
        "with  'a'  parameter"
      ],
      "metadata": {
        "id": "4GPppCiZccLZ"
      }
    },
    {
      "cell_type": "code",
      "source": [
        "output = open('myfile.txt', 'a')"
      ],
      "metadata": {
        "id": "OVz7b2c-b68V"
      },
      "execution_count": null,
      "outputs": []
    },
    {
      "cell_type": "code",
      "source": [
        "output.write('oh!! this is new line !')"
      ],
      "metadata": {
        "colab": {
          "base_uri": "https://localhost:8080/"
        },
        "id": "zNPxKKFpck_n",
        "outputId": "309cd2d4-85fc-4414-e4ce-ed157eb3ca1a"
      },
      "execution_count": null,
      "outputs": [
        {
          "output_type": "execute_result",
          "data": {
            "text/plain": [
              "23"
            ]
          },
          "metadata": {},
          "execution_count": 135
        }
      ]
    },
    {
      "cell_type": "code",
      "source": [
        "output.close()"
      ],
      "metadata": {
        "id": "khSkfxQAc7w4"
      },
      "execution_count": null,
      "outputs": []
    },
    {
      "cell_type": "markdown",
      "source": [
        "## ++++++++++++++++++++++++++++++++++++++++++++++++"
      ],
      "metadata": {
        "id": "edNY8tb_K1Vd"
      }
    },
    {
      "cell_type": "markdown",
      "source": [
        "## Comparison\n",
        "\n",
        "عملگرهای مقایسه\n",
        "\n",
        "\n",
        "\n",
        "```\n",
        " <\n",
        " >\n",
        " >=\n",
        " <=\n",
        " ==\n",
        " !=\n",
        "\n",
        " and\n",
        " or\n",
        " not\n",
        "```\n",
        "\n",
        "\n"
      ],
      "metadata": {
        "id": "tvLL4wpid7n-"
      }
    },
    {
      "cell_type": "code",
      "source": [
        "1 > 2"
      ],
      "metadata": {
        "colab": {
          "base_uri": "https://localhost:8080/"
        },
        "id": "LBaSjbINd9zU",
        "outputId": "4ecca160-1a37-4fa9-9234-1169c6e4d5f5"
      },
      "execution_count": null,
      "outputs": [
        {
          "output_type": "execute_result",
          "data": {
            "text/plain": [
              "False"
            ]
          },
          "metadata": {},
          "execution_count": 137
        }
      ]
    },
    {
      "cell_type": "code",
      "source": [
        "'Nima' == 'nima'"
      ],
      "metadata": {
        "colab": {
          "base_uri": "https://localhost:8080/"
        },
        "id": "2FrbZt29fOCp",
        "outputId": "dccee878-d547-424a-b76d-da6062afc824"
      },
      "execution_count": null,
      "outputs": [
        {
          "output_type": "execute_result",
          "data": {
            "text/plain": [
              "False"
            ]
          },
          "metadata": {},
          "execution_count": 138
        }
      ]
    },
    {
      "cell_type": "code",
      "source": [
        "'Hirad' == 'Hirad'"
      ],
      "metadata": {
        "colab": {
          "base_uri": "https://localhost:8080/"
        },
        "id": "21_vVITzfQ3_",
        "outputId": "8a983bf5-e2db-4b99-b32b-2b71783616a6"
      },
      "execution_count": null,
      "outputs": [
        {
          "output_type": "execute_result",
          "data": {
            "text/plain": [
              "True"
            ]
          },
          "metadata": {},
          "execution_count": 139
        }
      ]
    },
    {
      "cell_type": "code",
      "source": [
        "name = 'Hirad'"
      ],
      "metadata": {
        "id": "5Gq7_HvTfT9t"
      },
      "execution_count": null,
      "outputs": []
    },
    {
      "cell_type": "code",
      "source": [
        "name == 'hirad'"
      ],
      "metadata": {
        "colab": {
          "base_uri": "https://localhost:8080/"
        },
        "id": "_IEZX4Yvfg_D",
        "outputId": "24758fc0-21b8-4d80-a7b9-d54517033b4b"
      },
      "execution_count": null,
      "outputs": [
        {
          "output_type": "execute_result",
          "data": {
            "text/plain": [
              "False"
            ]
          },
          "metadata": {},
          "execution_count": 141
        }
      ]
    },
    {
      "cell_type": "code",
      "source": [
        "name != 'hirad'"
      ],
      "metadata": {
        "colab": {
          "base_uri": "https://localhost:8080/"
        },
        "id": "4vdBdJM1fif-",
        "outputId": "1a537e6c-91b7-4977-fe26-37fbd9ab8a2e"
      },
      "execution_count": null,
      "outputs": [
        {
          "output_type": "execute_result",
          "data": {
            "text/plain": [
              "True"
            ]
          },
          "metadata": {},
          "execution_count": 142
        }
      ]
    },
    {
      "cell_type": "code",
      "source": [
        "6 != 9"
      ],
      "metadata": {
        "colab": {
          "base_uri": "https://localhost:8080/"
        },
        "id": "CUpViCZrf5z7",
        "outputId": "99970257-329b-4e81-d55b-25fe2bb78001"
      },
      "execution_count": null,
      "outputs": [
        {
          "output_type": "execute_result",
          "data": {
            "text/plain": [
              "True"
            ]
          },
          "metadata": {},
          "execution_count": 144
        }
      ]
    },
    {
      "cell_type": "code",
      "source": [
        "4 > 3 and 9 >= 9 and 10 > 8"
      ],
      "metadata": {
        "colab": {
          "base_uri": "https://localhost:8080/"
        },
        "id": "0_DUZ-YVf_vs",
        "outputId": "3b021017-05fc-4881-fbc7-f1b7a767d306"
      },
      "execution_count": null,
      "outputs": [
        {
          "output_type": "execute_result",
          "data": {
            "text/plain": [
              "True"
            ]
          },
          "metadata": {},
          "execution_count": 146
        }
      ]
    },
    {
      "cell_type": "code",
      "source": [
        "4 > 3 and 9 >= 9 and 8 > 10"
      ],
      "metadata": {
        "colab": {
          "base_uri": "https://localhost:8080/"
        },
        "id": "n2EMv42XhSSF",
        "outputId": "852f248e-b3a6-4d6e-a333-fb299a955407"
      },
      "execution_count": null,
      "outputs": [
        {
          "output_type": "execute_result",
          "data": {
            "text/plain": [
              "False"
            ]
          },
          "metadata": {},
          "execution_count": 148
        }
      ]
    },
    {
      "cell_type": "code",
      "source": [
        "4 > 3 or 9 >= 9 or 8 > 10"
      ],
      "metadata": {
        "colab": {
          "base_uri": "https://localhost:8080/"
        },
        "id": "oSVy-GjwhjYI",
        "outputId": "4eb5d23d-7d75-44ee-d9d0-0c93b42dc727"
      },
      "execution_count": null,
      "outputs": [
        {
          "output_type": "execute_result",
          "data": {
            "text/plain": [
              "True"
            ]
          },
          "metadata": {},
          "execution_count": 149
        }
      ]
    },
    {
      "cell_type": "code",
      "source": [
        "not (4 > 3)"
      ],
      "metadata": {
        "colab": {
          "base_uri": "https://localhost:8080/"
        },
        "id": "nL5csmHfhqKY",
        "outputId": "305e0aa0-8b72-472e-9f82-e8ab6e1a5cec"
      },
      "execution_count": null,
      "outputs": [
        {
          "output_type": "execute_result",
          "data": {
            "text/plain": [
              "False"
            ]
          },
          "metadata": {},
          "execution_count": 150
        }
      ]
    },
    {
      "cell_type": "code",
      "source": [
        "ghad = 180"
      ],
      "metadata": {
        "id": "aeaHnWk3iSMp"
      },
      "execution_count": null,
      "outputs": []
    },
    {
      "cell_type": "code",
      "source": [
        "190 > ghad > 150"
      ],
      "metadata": {
        "colab": {
          "base_uri": "https://localhost:8080/"
        },
        "id": "UxY4Vaioir-d",
        "outputId": "8e90f486-4614-48c4-cc62-52622f455379"
      },
      "execution_count": null,
      "outputs": [
        {
          "output_type": "execute_result",
          "data": {
            "text/plain": [
              "True"
            ]
          },
          "metadata": {},
          "execution_count": 152
        }
      ]
    },
    {
      "cell_type": "markdown",
      "source": [
        "## ++++++++++++++++++++++++++++++++++++++++++++++++\n"
      ],
      "metadata": {
        "id": "2clVfBvjK6ed"
      }
    },
    {
      "cell_type": "markdown",
      "source": [
        "## Conditions\n",
        "\n",
        "شرط‌ها در پایتون"
      ],
      "metadata": {
        "id": "Cv5Vl5Mwo5De"
      }
    },
    {
      "cell_type": "code",
      "source": [],
      "metadata": {
        "id": "_dHRmsa1o9VC"
      },
      "execution_count": null,
      "outputs": []
    },
    {
      "cell_type": "markdown",
      "source": [
        "## ++++++++++++++++++++++++++++++++++++++++++++++++"
      ],
      "metadata": {
        "id": "c6VqGpaOK-YM"
      }
    },
    {
      "cell_type": "markdown",
      "source": [
        "# Statements"
      ],
      "metadata": {
        "id": "1YwOFkgUiAzE"
      }
    },
    {
      "cell_type": "markdown",
      "source": [
        "##شرط‌ها در پایتون"
      ],
      "metadata": {
        "id": "MY61nBUriJOs"
      }
    },
    {
      "cell_type": "code",
      "source": [
        "sen = 18"
      ],
      "metadata": {
        "id": "LtzElVrkiH4h"
      },
      "execution_count": null,
      "outputs": []
    },
    {
      "cell_type": "code",
      "source": [
        "if sen < 18:\n",
        "  print(\"Hi Baby !\")\n",
        "elif sen < 30:\n",
        "  print(\"Hello Young !\")\n",
        "elif sen < 60:\n",
        "  print(\"Hello Junior !\")\n",
        "else:\n",
        "  print(\"Hi Old !\")\n",
        "\n",
        "print(\"\")"
      ],
      "metadata": {
        "colab": {
          "base_uri": "https://localhost:8080/"
        },
        "id": "n5bbPvFtlyxK",
        "outputId": "80763978-f169-440b-8693-7fac4697f3c6"
      },
      "execution_count": null,
      "outputs": [
        {
          "output_type": "stream",
          "name": "stdout",
          "text": [
            "Hello Young !\n"
          ]
        }
      ]
    },
    {
      "cell_type": "markdown",
      "source": [
        "## تمرین فروشگاه مشروط\n",
        "\n",
        "یک فروشگاه تخفیف‌های ویژه‌ای برای مشتریان در نظر گرفته است. قوانین تخفیف به شرح زیر است:\n",
        "\n",
        "اگر مبلغ خرید بیشتر از ۵۰۰۰۰ تومان باشد، تخفیف ۲۰٪ اعمال می‌شود.\n",
        "\n",
        "اگر مبلغ خرید بین ۲۰۰۰۰ تا ۵۰۰۰۰ تومان باشد، تخفیف ۱۰٪ اعمال می‌شود.\n",
        "\n",
        "اگر مبلغ خرید کمتر از ۲۰۰۰۰ تومان باشد، تخفیفی اعمال نمی‌شود.\n",
        "\n",
        "\n",
        "برنامه‌ای بنویسید که مبلغ خرید را از کاربر دریافت کند و مقدار مبلغ نهایی را نمایش دهد.\n",
        "\n",
        "ورودی ۱:  55000\n",
        "\n",
        "\n",
        "خروجی ۱:  44000\n"
      ],
      "metadata": {
        "id": "uYCHtNlTm8Dc"
      }
    },
    {
      "cell_type": "code",
      "source": [
        "price = 0\n",
        "off = 0\n",
        "final_price = 0"
      ],
      "metadata": {
        "id": "ZvgbmjQemsR8"
      },
      "execution_count": null,
      "outputs": []
    },
    {
      "cell_type": "code",
      "source": [
        "price = int(input())"
      ],
      "metadata": {
        "colab": {
          "base_uri": "https://localhost:8080/"
        },
        "id": "MBG-Kshqoyix",
        "outputId": "b072f4ed-9b04-4bb2-e8f5-0370f4a855b0"
      },
      "execution_count": null,
      "outputs": [
        {
          "name": "stdout",
          "output_type": "stream",
          "text": [
            "18000\n"
          ]
        }
      ]
    },
    {
      "cell_type": "code",
      "source": [
        "if price > 50000:\n",
        "  off = (price * 20) // 100\n",
        "  final_price = price - off\n",
        "  print(f\"OFF : {off}\")\n",
        "  print(f\"Final Price : {final_price}\")\n",
        "elif price >= 20000 and price <= 50000:\n",
        "  off = (price * 10) // 100\n",
        "  final_price = price - off\n",
        "  print(f\"OFF : {off}\")\n",
        "  print(f\"Final Price : {final_price}\")\n",
        "else:\n",
        "  print(f\"OFF : {off}\")\n",
        "  print(f\"Final Price : {price}\")\n"
      ],
      "metadata": {
        "colab": {
          "base_uri": "https://localhost:8080/"
        },
        "id": "0vybRTfNo6_m",
        "outputId": "8ecc3375-cd2d-412e-8b92-b1a1623dbd9d"
      },
      "execution_count": null,
      "outputs": [
        {
          "output_type": "stream",
          "name": "stdout",
          "text": [
            "OFF : 0\n",
            "Final Price : 18000\n"
          ]
        }
      ]
    },
    {
      "cell_type": "markdown",
      "source": [
        "## حلقه for: قسمت اول"
      ],
      "metadata": {
        "id": "TM6ka18yPVq2"
      }
    },
    {
      "cell_type": "code",
      "source": [
        "my_list = [1, 2, 3, 4, 'h']"
      ],
      "metadata": {
        "id": "Q3f6I9UxPX8X"
      },
      "execution_count": null,
      "outputs": []
    },
    {
      "cell_type": "code",
      "source": [
        "for item in my_list:\n",
        "  print(item)\n",
        "  print(f\"*2 = {item * 2}\")\n",
        "\n",
        "print('\\nended')"
      ],
      "metadata": {
        "colab": {
          "base_uri": "https://localhost:8080/"
        },
        "id": "lJwAgWKRQPfS",
        "outputId": "1b2351ce-2dc4-415f-f9f3-d75c97507ec7"
      },
      "execution_count": null,
      "outputs": [
        {
          "output_type": "stream",
          "name": "stdout",
          "text": [
            "1\n",
            "*2 = 2\n",
            "2\n",
            "*2 = 4\n",
            "3\n",
            "*2 = 6\n",
            "4\n",
            "*2 = 8\n",
            "h\n",
            "*2 = hh\n",
            "\n",
            "ended\n"
          ]
        }
      ]
    },
    {
      "cell_type": "code",
      "source": [
        "for _ in my_list:\n",
        "  print(\"Hi Python !\")"
      ],
      "metadata": {
        "colab": {
          "base_uri": "https://localhost:8080/"
        },
        "id": "VKztRPdpRkur",
        "outputId": "3e994f08-c2b7-4612-b979-0d5c8b8bf692"
      },
      "execution_count": null,
      "outputs": [
        {
          "output_type": "stream",
          "name": "stdout",
          "text": [
            "Hi Python !\n",
            "Hi Python !\n",
            "Hi Python !\n",
            "Hi Python !\n",
            "Hi Python !\n"
          ]
        }
      ]
    },
    {
      "cell_type": "markdown",
      "source": [
        "## حلقه for: قسمت دوم\n"
      ],
      "metadata": {
        "id": "D-__oM7bR9XL"
      }
    },
    {
      "cell_type": "code",
      "source": [
        "my_tuple = (('Jadi', 45), ('Hirad', 1), ('Nima', 31))"
      ],
      "metadata": {
        "id": "v4lgrqvrSA6R"
      },
      "execution_count": null,
      "outputs": []
    },
    {
      "cell_type": "code",
      "source": [
        "for item in my_tuple:\n",
        "  print(item)"
      ],
      "metadata": {
        "colab": {
          "base_uri": "https://localhost:8080/"
        },
        "id": "skuQVkVqdL2Y",
        "outputId": "6d32cbad-dc58-463b-f9ab-3eb14d139e93"
      },
      "execution_count": null,
      "outputs": [
        {
          "output_type": "stream",
          "name": "stdout",
          "text": [
            "('Jadi', 45)\n",
            "('Hirad', 1)\n",
            "('Nima', 31)\n"
          ]
        }
      ]
    },
    {
      "cell_type": "code",
      "source": [
        "for item in my_tuple:\n",
        "  name, age = item\n",
        "  print(f\"name: {name}\")\n",
        "  print(f\"age: {age}\", end='\\n+++++++++++++++\\n')"
      ],
      "metadata": {
        "colab": {
          "base_uri": "https://localhost:8080/"
        },
        "id": "U87aRElGv9FK",
        "outputId": "d175ed37-76ca-4633-a841-3ea7878fe964"
      },
      "execution_count": null,
      "outputs": [
        {
          "output_type": "stream",
          "name": "stdout",
          "text": [
            "name: Jadi\n",
            "age: 45\n",
            "+++++++++++++++\n",
            "name: Hirad\n",
            "age: 1\n",
            "+++++++++++++++\n",
            "name: Nima\n",
            "age: 31\n",
            "+++++++++++++++\n"
          ]
        }
      ]
    },
    {
      "cell_type": "code",
      "source": [
        "for name, age in my_tuple:\n",
        "  print(f\"{name} is {age} years old.\", end='\\n+++++++++++++++\\n')"
      ],
      "metadata": {
        "colab": {
          "base_uri": "https://localhost:8080/"
        },
        "id": "nZk4ko2RwXEn",
        "outputId": "4f8f4580-900d-42f1-c77e-3800e7e6f754"
      },
      "execution_count": null,
      "outputs": [
        {
          "output_type": "stream",
          "name": "stdout",
          "text": [
            "Jadi is 45 years old.\n",
            "+++++++++++++++\n",
            "Hirad is 1 years old.\n",
            "+++++++++++++++\n",
            "Nima is 31 years old.\n",
            "+++++++++++++++\n"
          ]
        }
      ]
    },
    {
      "cell_type": "code",
      "source": [
        "people = {\n",
        "    'Jadi': (45, 180), 'Hirad': (1, 55), 'Nima': (31, 178)\n",
        "}"
      ],
      "metadata": {
        "id": "8XlH6Mw1xJTM"
      },
      "execution_count": null,
      "outputs": []
    },
    {
      "cell_type": "code",
      "source": [
        "for person in people:\n",
        "  print(person, people[person][0])"
      ],
      "metadata": {
        "colab": {
          "base_uri": "https://localhost:8080/"
        },
        "id": "zoSYUGAVyiF8",
        "outputId": "7998008a-ed4e-4c70-c7db-235a12e99357"
      },
      "execution_count": null,
      "outputs": [
        {
          "output_type": "stream",
          "name": "stdout",
          "text": [
            "Jadi 45\n",
            "Hirad 1\n",
            "Nima 31\n"
          ]
        }
      ]
    },
    {
      "cell_type": "code",
      "source": [
        "for person, data in people.items():\n",
        "  print(f\"{person} -> {data}\")"
      ],
      "metadata": {
        "colab": {
          "base_uri": "https://localhost:8080/"
        },
        "id": "XIBdMgwxytqu",
        "outputId": "8c77ec57-6efb-4536-9800-de46b9473263"
      },
      "execution_count": null,
      "outputs": [
        {
          "output_type": "stream",
          "name": "stdout",
          "text": [
            "Jadi -> (45, 180)\n",
            "Hirad -> (1, 55)\n",
            "Nima -> (31, 178)\n"
          ]
        }
      ]
    },
    {
      "cell_type": "code",
      "source": [
        "for person in people.keys():\n",
        "  print(f\"{person}\")"
      ],
      "metadata": {
        "colab": {
          "base_uri": "https://localhost:8080/"
        },
        "id": "7ESn9VMszM74",
        "outputId": "ac5a6a32-6f5f-44d5-b4bf-61faa9203c61"
      },
      "execution_count": null,
      "outputs": [
        {
          "output_type": "stream",
          "name": "stdout",
          "text": [
            "Jadi\n",
            "Hirad\n",
            "Nima\n"
          ]
        }
      ]
    },
    {
      "cell_type": "code",
      "source": [
        "for person in people.values():\n",
        "  print(f\"{person}\")"
      ],
      "metadata": {
        "colab": {
          "base_uri": "https://localhost:8080/"
        },
        "id": "ekLMtt0BzlIq",
        "outputId": "fd71c5a1-1b6c-49fb-da34-71dc457b5d20"
      },
      "execution_count": null,
      "outputs": [
        {
          "output_type": "stream",
          "name": "stdout",
          "text": [
            "(45, 180)\n",
            "(1, 55)\n",
            "(31, 178)\n"
          ]
        }
      ]
    },
    {
      "cell_type": "markdown",
      "source": [
        "## تمرین جادوی حلقه\n",
        "\n",
        "یک جادوگر تصمیم گرفته است که با استفاده از یک طلسم خاص، قدرت اعداد را افزایش دهد! او یک عدد n را انتخاب می‌کند و سپس برای n مرحله، کارهای زیر را انجام می‌دهد:\n",
        "\n",
        "اگر عدد فرد باشد، مقدار آن را دو برابر کرده و 1 واحد کم می‌کند.\n",
        "\n",
        "اگر عدد زوج باشد، مقدار آن را نصف می‌کند.\n",
        "\n",
        "جادوگر این عملیات را دقیقاً n بار انجام می‌دهد.\n",
        "\n",
        "📝 ورودی\n",
        "\n",
        "عدد صحیح n که تعداد مراحل را مشخص می‌کند (1 ≤ n ≤ 20).\n",
        "\n",
        "عدد صحیح x که مقدار اولیه است (1 ≤ x ≤ 1000).\n",
        "\n",
        "خروجی:\n",
        "\n",
        "در انتها مقدار نهایی x را نمایش بده\n",
        "\n",
        ".\n",
        "\n",
        "\n",
        "ورودی 1:\n",
        "\n",
        "5\n",
        "\n",
        "10\n",
        "\n",
        "خروجی 1:\n",
        "\n",
        "65\n"
      ],
      "metadata": {
        "id": "j4Pt1-dvF7eX"
      }
    },
    {
      "cell_type": "code",
      "source": [
        "n = int(input())\n",
        "\n",
        "if not 1 <= n <= 20:\n",
        "  raise ValueError(\"Number out of allowed range\")"
      ],
      "metadata": {
        "id": "l-cSFF0tzozs",
        "colab": {
          "base_uri": "https://localhost:8080/"
        },
        "outputId": "0c95a38e-a3d0-467e-ee28-5191c84271a2"
      },
      "execution_count": null,
      "outputs": [
        {
          "name": "stdout",
          "output_type": "stream",
          "text": [
            "5\n"
          ]
        }
      ]
    },
    {
      "cell_type": "code",
      "source": [
        "x = int(input())\n",
        "\n",
        "if not 1 <= n <= 1000:\n",
        "  raise ValueError(\"Number out of allowed range\")"
      ],
      "metadata": {
        "colab": {
          "base_uri": "https://localhost:8080/"
        },
        "id": "35lSTJb-HbGf",
        "outputId": "3bbe12a1-b897-4294-d319-7d1c90fb0fcd"
      },
      "execution_count": null,
      "outputs": [
        {
          "name": "stdout",
          "output_type": "stream",
          "text": [
            "10\n"
          ]
        }
      ]
    },
    {
      "cell_type": "code",
      "source": [
        "for _ in range(n):\n",
        "  if x % 2 == 0:\n",
        "    x = x // 2\n",
        "  else:\n",
        "    x = (x * 2) - 1"
      ],
      "metadata": {
        "id": "25ZcWV0lIg4c"
      },
      "execution_count": null,
      "outputs": []
    },
    {
      "cell_type": "code",
      "source": [
        "print(x)"
      ],
      "metadata": {
        "colab": {
          "base_uri": "https://localhost:8080/"
        },
        "id": "oTChnO7eJZ4v",
        "outputId": "6e158db6-d436-4a81-9a25-c0e336b38292"
      },
      "execution_count": null,
      "outputs": [
        {
          "output_type": "stream",
          "name": "stdout",
          "text": [
            "65\n"
          ]
        }
      ]
    }
  ]
}