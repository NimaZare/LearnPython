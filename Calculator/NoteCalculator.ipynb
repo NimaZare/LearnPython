{
 "cells": [
  {
   "attachments": {},
   "cell_type": "markdown",
   "metadata": {},
   "source": [
    "### User Input"
   ]
  },
  {
   "cell_type": "code",
   "execution_count": null,
   "metadata": {},
   "outputs": [],
   "source": [
    "num1 = float(input(\"Please enter first number : \"))\n",
    "num2 = float(input(\"Please enter secound number : \"))\n",
    "my_operation = input(\"Please enter your operation : \")"
   ]
  },
  {
   "attachments": {},
   "cell_type": "markdown",
   "metadata": {},
   "source": [
    "### Calculate"
   ]
  },
  {
   "cell_type": "code",
   "execution_count": null,
   "metadata": {},
   "outputs": [],
   "source": [
    "print(\"-----> RESULT <-----\")\n",
    "\n",
    "match my_operation:\n",
    "    case \"+\":\n",
    "        print(f\"Sum {num1} and {num2} : {(num1 + num2)}\")\n",
    "    case \"-\":\n",
    "        print(f\"Dif {num1} and {num2} : {(num1 - num2)}\")\n",
    "    case \"*\":\n",
    "        print(f\"Multi {num1} and {num2} : {(num1 * num2)}\")\n",
    "    case \"/\":\n",
    "        print(f\"Div {num1} and {num2} : {(num1 / num2)}\")\n",
    "    case _:\n",
    "        print(f\"Sorry, Your operation ({my_operation}) not supported ! \")\n",
    "\n",
    "print(\"-----> END - THANKS <-----\")"
   ]
  }
 ],
 "metadata": {
  "kernelspec": {
   "display_name": ".venv",
   "language": "python",
   "name": "python3"
  },
  "language_info": {
   "codemirror_mode": {
    "name": "ipython",
    "version": 3
   },
   "file_extension": ".py",
   "mimetype": "text/x-python",
   "name": "python",
   "nbconvert_exporter": "python",
   "pygments_lexer": "ipython3",
   "version": "3.11.4"
  },
  "orig_nbformat": 4
 },
 "nbformat": 4,
 "nbformat_minor": 2
}
